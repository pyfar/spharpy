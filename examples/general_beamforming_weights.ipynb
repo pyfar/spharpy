{
 "cells": [
  {
   "cell_type": "code",
   "execution_count": null,
   "metadata": {},
   "outputs": [],
   "source": [
    "import numpy as np\n",
    "import spharpy\n",
    "import matplotlib.pyplot as plt\n",
    "from matplotlib.collections import LineCollection\n",
    "\n",
    "import spharpy.beamforming"
   ]
  },
  {
   "cell_type": "code",
   "execution_count": null,
   "metadata": {},
   "outputs": [],
   "source": [
    "def plot_beampattern_azimuth(beampattern, angle, label='Beampattern', colorbar=True, **kwargs):\n",
    "    fig = plt.gcf()\n",
    "    axs = plt.gca()\n",
    "    phase = np.angle(beampattern)\n",
    "    x = angle\n",
    "    y = 20*np.log10(np.abs(beampattern))\n",
    "    points = np.array([x, y]).T.reshape(-1, 1, 2)\n",
    "    segments = np.concatenate([points[:-1], points[1:]], axis=1)\n",
    "\n",
    "    norm = plt.Normalize(0, 2*np.pi)\n",
    "    lc = LineCollection(segments, cmap=spharpy.plot.phase_twilight(), norm=norm, label=label, **kwargs)\n",
    "    lc.set_array(phase)\n",
    "    line = axs.add_collection(lc)\n",
    "    if colorbar:\n",
    "        fig.colorbar(line, ax=axs, label='Phase [rad]')\n",
    "\n",
    "\n",
    "    plt.grid(True)\n",
    "    ax = plt.gca()\n",
    "    ax.set_xticks([0, np.pi/2, np.pi, 3*np.pi/2, 2*np.pi])\n",
    "    ax.set_xticklabels(['$0$', '$\\pi/2$', '$\\pi$',  '$3\\pi/2$',  '$2\\pi$'])\n",
    "    ax.set_ylim((-60, 5))\n",
    "    ax.set_ylabel('Magnitude [dB re 1]')\n",
    "    ax.set_xlabel('Azimuth [$^\\circ$]')\n",
    "    plt.legend()"
   ]
  },
  {
   "cell_type": "markdown",
   "metadata": {},
   "source": [
    "# Analytic Plane Wave"
   ]
  },
  {
   "cell_type": "code",
   "execution_count": null,
   "metadata": {},
   "outputs": [],
   "source": [
    "N = 7\n",
    "doa = spharpy.samplings.Coordinates(-1,0,0)\n",
    "p_nm = spharpy.spherical.spherical_harmonic_basis_real(N, doa)"
   ]
  },
  {
   "cell_type": "markdown",
   "metadata": {},
   "source": [
    "# Beamforming"
   ]
  },
  {
   "cell_type": "code",
   "execution_count": null,
   "metadata": {},
   "outputs": [],
   "source": [
    "n_dirs = 1024\n",
    "azi = np.linspace(0, 2*np.pi, n_dirs)\n",
    "steering_directions = spharpy.samplings.Coordinates.from_spherical(np.ones(n_dirs), np.ones(n_dirs)*np.pi/2, azi)\n",
    "Y_steering = spharpy.spherical.spherical_harmonic_basis_real(N, steering_directions)"
   ]
  },
  {
   "cell_type": "markdown",
   "metadata": {},
   "source": [
    "## Plane Wave Decomposition"
   ]
  },
  {
   "cell_type": "code",
   "execution_count": null,
   "metadata": {},
   "outputs": [],
   "source": [
    "c_nm = 4*np.pi / (N+1)**2"
   ]
  },
  {
   "cell_type": "code",
   "execution_count": null,
   "metadata": {},
   "outputs": [],
   "source": [
    "plane_wave_dencomposition = c_nm * np.squeeze((Y_steering @ p_nm.T))"
   ]
  },
  {
   "cell_type": "code",
   "execution_count": null,
   "metadata": {},
   "outputs": [],
   "source": [
    "plt.figure(figsize=(12, 4))\n",
    "plot_beampattern_azimuth(plane_wave_dencomposition, azi, label='N = {}'.format(N))"
   ]
  },
  {
   "cell_type": "markdown",
   "metadata": {},
   "source": [
    "## Dolph Chebyshev Beamformer\n",
    "\n",
    "The Dolph-Chebyshev design process consists of either choosing a desired side-lobe attenuation $R$ or main-lobe width $\\theta_0$. "
   ]
  },
  {
   "cell_type": "code",
   "execution_count": null,
   "metadata": {},
   "outputs": [],
   "source": [
    "R_dB = 50\n",
    "R = 10**(R_dB/20)\n",
    "d_nm_sidelobe = spharpy.beamforming.dolph_chebyshev_weights(N, R, design_criterion='sidelobe')\n",
    "theta0 = np.pi/6\n",
    "d_nm_mainlobe = spharpy.beamforming.dolph_chebyshev_weights(N, theta0, design_criterion='mainlobe')"
   ]
  },
  {
   "cell_type": "code",
   "execution_count": null,
   "metadata": {},
   "outputs": [],
   "source": [
    "dolph_cheby_sidelobe = np.squeeze(np.real(Y_steering @ np.diag(d_nm_sidelobe) @ p_nm.T))\n",
    "dolph_cheby_mainlobe = np.squeeze(np.real(Y_steering @ np.diag(d_nm_mainlobe) @ p_nm.T))"
   ]
  },
  {
   "cell_type": "code",
   "execution_count": null,
   "metadata": {},
   "outputs": [],
   "source": [
    "plt.figure(figsize=(12, 4))\n",
    "plot_beampattern_azimuth(dolph_cheby_sidelobe, azi, label='N = {}, R = {} dB'.format(N, R_dB))\n",
    "plot_beampattern_azimuth(dolph_cheby_mainlobe, azi, label='N = {}, $\\\\theta_0$ = {} $\\\\pi$'.format(N, np.round(theta0/np.pi, decimals=3)), linestyle='dotted', colorbar=False)\n",
    "plt.axhline(-R_dB, color='k', linestyle='-.', alpha=0.7)\n",
    "plt.axvline(theta0+doa.azimuth, color='k', linestyle='-.', alpha=0.7)\n",
    "plt.axvline(doa.azimuth-theta0, color='k', linestyle='-.', alpha=0.7)"
   ]
  },
  {
   "cell_type": "markdown",
   "metadata": {},
   "source": [
    "## rE max Weights"
   ]
  },
  {
   "cell_type": "code",
   "execution_count": null,
   "metadata": {},
   "outputs": [],
   "source": [
    "g_nm = spharpy.beamforming.rE_max_weights(N)\n",
    "re_max = np.squeeze(Y_steering @ np.diag(g_nm) @ p_nm.T)"
   ]
  },
  {
   "cell_type": "code",
   "execution_count": null,
   "metadata": {},
   "outputs": [],
   "source": [
    "plt.figure(figsize=(12, 4))\n",
    "plot_beampattern_azimuth(re_max/re_max.max(), azi, label='N = {}'.format(N))"
   ]
  },
  {
   "cell_type": "markdown",
   "metadata": {},
   "source": [
    "## Hanning Window Weighting"
   ]
  },
  {
   "cell_type": "code",
   "execution_count": null,
   "metadata": {},
   "outputs": [],
   "source": [
    "from scipy.signal.windows import hann"
   ]
  },
  {
   "cell_type": "code",
   "execution_count": null,
   "metadata": {},
   "outputs": [],
   "source": [
    "h_n = hann(2*(N+1)+1)[N+1:-1]\n",
    "h_nm = spharpy.indexing.sph_identity_matrix(N).T @ h_n\n",
    "hanning = np.squeeze(Y_steering @ np.diag(h_nm) @ p_nm.T)"
   ]
  },
  {
   "cell_type": "code",
   "execution_count": null,
   "metadata": {},
   "outputs": [],
   "source": [
    "plt.figure(figsize=(12, 4))\n",
    "plot_beampattern_azimuth(hanning/hanning.max(), azi, label='N = {}'.format(N))"
   ]
  },
  {
   "cell_type": "markdown",
   "metadata": {},
   "source": [
    "## Maximum Front-Back Ratio"
   ]
  },
  {
   "cell_type": "code",
   "execution_count": null,
   "metadata": {},
   "outputs": [],
   "source": [
    "f_nm = spharpy.beamforming.maximum_front_back_ratio_weights(N)"
   ]
  },
  {
   "cell_type": "code",
   "execution_count": null,
   "metadata": {},
   "outputs": [],
   "source": [
    "max_fb = np.squeeze(Y_steering @ np.diag(f_nm) @ p_nm.T)"
   ]
  },
  {
   "cell_type": "code",
   "execution_count": null,
   "metadata": {},
   "outputs": [],
   "source": [
    "plt.figure(figsize=(12, 4))\n",
    "plot_beampattern_azimuth(max_fb, azi, label='N = {}'.format(N))\n",
    "plt.axvline(doa.azimuth+np.pi/2, color='k', linestyle='-.', alpha=0.7)\n",
    "plt.axvline(doa.azimuth-np.pi/2, color='k', linestyle='-.', alpha=0.7)"
   ]
  }
 ],
 "metadata": {
  "interpreter": {
   "hash": "9131b587d0f7e98eda94de94aac65297fc22abcfb5aba426e123fc3ffc316114"
  },
  "kernelspec": {
   "display_name": "Python 3.7.2 64-bit ('spharpy': conda)",
   "language": "python",
   "name": "python3"
  },
  "language_info": {
   "codemirror_mode": {
    "name": "ipython",
    "version": 3
   },
   "file_extension": ".py",
   "mimetype": "text/x-python",
   "name": "python",
   "nbconvert_exporter": "python",
   "pygments_lexer": "ipython3",
   "version": "3.9.10"
  }
 },
 "nbformat": 4,
 "nbformat_minor": 2
}
