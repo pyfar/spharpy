{
 "cells": [
  {
   "cell_type": "code",
   "execution_count": null,
   "metadata": {},
   "outputs": [],
   "source": [
    "import spharpy\n",
    "from pyfar import Coordinates\n",
    "import numpy as np\n",
    "import matplotlib.pyplot as plt\n",
    "import matplotlib as mpl\n",
    "from matplotlib.colorbar import Colorbar"
   ]
  },
  {
   "cell_type": "code",
   "execution_count": null,
   "metadata": {},
   "outputs": [],
   "source": [
    "def plot_basis_functions(Y, sampling, n_max=2):\n",
    "    fig = plt.figure(figsize=(12, 8))\n",
    "    gs = plt.GridSpec(4, 5, height_ratios=[1, 1, 1, 0.1], width_ratios=[1, 1, 1, 1, 1])\n",
    "    for acn in range((n_max+1)**2):\n",
    "        n, m = spharpy.spherical.acn2nm(acn)\n",
    "        idx_m = int(np.floor(n_max/2+1)) + m\n",
    "        ax = plt.subplot(gs[n, idx_m], projection='3d')\n",
    "        balloon = spharpy.plot.balloon_wireframe(sampling, Y[:, acn], phase=True, show=False, colorbar=False, ax=ax)\n",
    "        ax.set_title('$Y_{' + str(n) + '}^{' + str(m) + '}(\\\\theta, \\\\phi)$')\n",
    "        plt.axis('off')\n",
    "    cax = plt.subplot(gs[n_max+1, :])\n",
    "\n",
    "    cnorm = plt.Normalize(0, 2*np.pi)\n",
    "    cmappable = mpl.cm.ScalarMappable(cnorm, spharpy.plot.phase_twilight())\n",
    "    cmappable.set_array(np.linspace(0, 2*np.pi, 128))\n",
    "\n",
    "    cb = Colorbar(ax=cax, mappable=cmappable, orientation='horizontal', ticklocation='bottom')\n",
    "    cb.set_label('Phase in rad')\n",
    "    cb.set_ticks(np.linspace(0, 2*np.pi, 5))\n",
    "    cb.set_ticklabels(['$0$', '$\\pi/2$', '$\\pi$', '$3\\pi/2$', '$2\\pi$'])"
   ]
  },
  {
   "cell_type": "markdown",
   "metadata": {},
   "source": [
    "# Spherical Harmonics\n",
    "\n",
    "The spherical harmonics can be used to describe functions on a sphere $c(\\theta, \\phi)$ using a set of Fourier coefficients $c_{nm}$.\n",
    "\n",
    "$$ c(\\theta, \\phi) = \\sum_{n=0}^N \\sum_{m=-n}^n  c_{nm} {Y_n^m} (\\theta, \\phi)$$\n",
    "\n",
    "$$ c_{nm} =  \\int_0^{2\\pi} \\int_0^{\\pi} c(\\theta, \\phi)  {Y_n^m}^*(\\theta, \\phi) \\sin(\\theta) \\mathrm{d} \\theta \\mathrm{d} \\phi $$\n",
    "\n",
    "These two equations are also referred to as inverse spherical harmonic transform and spherical harmonic transform."
   ]
  },
  {
   "cell_type": "markdown",
   "metadata": {},
   "source": [
    "## Sampling the Sphere\n",
    "For a discrete representation, the sphere needs to be sampled. The sampling points need to be chosen such that a valid approximation of the integral in the inverse spherical harmonic transform is achieved.\n",
    "Samplings with this property are found in the samplings module\n",
    "\n",
    "``` python\n",
    ">>> import spharpy.samplings\n",
    "```"
   ]
  },
  {
   "cell_type": "code",
   "execution_count": null,
   "metadata": {},
   "outputs": [],
   "source": [
    "sampling = spharpy.samplings.equal_area(25, condition_num=np.inf)\n",
    "plt.figure(figsize=(7, 7))\n",
    "spharpy.plot.scatter(sampling)"
   ]
  },
  {
   "cell_type": "markdown",
   "metadata": {},
   "source": [
    "## Complex Valued Basis Functions"
   ]
  },
  {
   "cell_type": "code",
   "execution_count": null,
   "metadata": {},
   "outputs": [],
   "source": [
    "n_max = 3\n",
    "Y = spharpy.spherical.spherical_harmonic_basis(n_max, sampling)"
   ]
  },
  {
   "cell_type": "code",
   "execution_count": null,
   "metadata": {},
   "outputs": [],
   "source": [
    "plot_basis_functions(Y, sampling)"
   ]
  },
  {
   "cell_type": "markdown",
   "metadata": {},
   "source": [
    "## Real Valued Basis Functions"
   ]
  },
  {
   "cell_type": "code",
   "execution_count": null,
   "metadata": {},
   "outputs": [],
   "source": [
    "Y_real = spharpy.spherical.spherical_harmonic_basis_real(n_max, sampling)"
   ]
  },
  {
   "cell_type": "code",
   "execution_count": null,
   "metadata": {},
   "outputs": [],
   "source": [
    "plot_basis_functions(Y_real, sampling)"
   ]
  },
  {
   "cell_type": "markdown",
   "metadata": {},
   "source": [
    "## Spherical Harmonic Composition\n",
    "Similar to the Fourier synthesis of arbitrary time signals, the superposition of spherical harmonics may be used to synthesize arbitrary functions on the sphere by weighted superposition:\n",
    "\n",
    "$$ d(\\theta, \\phi) = Y_0^0(\\theta, \\phi) - Y_1^1(\\theta, \\phi)  = \\mathbf{Y} \\mathbf{d_{nm}}$$\n",
    "\n",
    "with the spherical harmonic coefficient vector\n",
    "\n",
    "$$ \\mathbf{d_{nm}} = \\left[ d_{0, 0}, d_{1, -1}, d_{1, 0}, d_{1, 1}, d_{2, -2}, \\dots \\right] = \\left[ 1, 0, 0, -1, 0, \\dots \\right]$$"
   ]
  },
  {
   "cell_type": "code",
   "execution_count": null,
   "metadata": {},
   "outputs": [],
   "source": [
    "c_nm = np.zeros((n_max+1)**2)\n",
    "c_nm[[0, 3]] = [1, -1]\n",
    "c_spatial = Y_real @ c_nm"
   ]
  },
  {
   "cell_type": "markdown",
   "metadata": {},
   "source": [
    "We can plot this in the spatial domain on a full unit sphere:"
   ]
  },
  {
   "cell_type": "code",
   "execution_count": null,
   "metadata": {},
   "outputs": [],
   "source": [
    "plt.figure(figsize=(7, 7))\n",
    "spharpy.plot.balloon_wireframe(sampling, c_spatial, phase=True)"
   ]
  },
  {
   "cell_type": "markdown",
   "metadata": {},
   "source": [
    "However, arbitrary point sets may be used for the synthesis. Here, we plot the data on a circle in the xy-plane:"
   ]
  },
  {
   "cell_type": "code",
   "execution_count": null,
   "metadata": {},
   "outputs": [],
   "source": [
    "n_points = 128\n",
    "circle = Coordinates.from_spherical_colatitude(np.linspace(0, 2*np.pi, n_points), np.pi/2, 1)\n",
    "Y_real_circle = spharpy.spherical.spherical_harmonic_basis_real(n_max, circle)"
   ]
  },
  {
   "cell_type": "code",
   "execution_count": null,
   "metadata": {},
   "outputs": [],
   "source": [
    "plt.figure(figsize=(6, 6))\n",
    "spharpy.plot.scatter(circle)"
   ]
  },
  {
   "cell_type": "code",
   "execution_count": null,
   "metadata": {},
   "outputs": [],
   "source": [
    "c_spatial_circle = Y_real_circle @ c_nm"
   ]
  },
  {
   "cell_type": "code",
   "execution_count": null,
   "metadata": {},
   "outputs": [],
   "source": [
    "fig = plt.figure(figsize=(6, 6))\n",
    "ax = fig.add_subplot(111, projection='polar')\n",
    "ax.plot(circle.azimuth, np.abs(c_spatial_circle))"
   ]
  },
  {
   "cell_type": "markdown",
   "metadata": {},
   "source": [
    "## Spatial Dirac Delta Function\n",
    "\n",
    "A perfect dirac delta function in the spatial domain may be represented by a vector pointing in only one direction $(\\theta^\\prime, \\phi^\\prime)$,\n",
    "\n",
    "$$ \\delta(\\theta^\\prime, \\phi^\\prime) = \\delta(\\cos(\\theta - \\cos\\theta^\\prime) \\delta(\\phi - \\phi^\\prime)$$\n",
    "\n",
    "Using the sifting property, we can find an analytic solution in the spherical harmonic domain\n",
    "\n",
    "$$ \\delta_{nm}^{(\\theta^\\prime, \\phi^\\prime)}=  \\int_0^{2\\pi} \\int_0^{\\pi} \\delta(\\theta^\\prime, \\phi^\\prime) {Y_n^m}^* (\\theta, \\phi) \\sin(\\theta) \\mathrm{d} \\theta \\mathrm{d} \\phi = {Y_n^m}^* (\\theta^\\prime, \\phi^\\prime)$$\n",
    "\n",
    "If we now re-synthesize the spatial dirac function, we see that the spatial resoltion of our  new function is limited by the spherical harmonic order $N$.\n",
    "\n",
    "$$ \\delta(\\theta^\\prime, \\phi^\\prime) = \\sum_{n=0}^N \\sum_{m=-n}^n  \\delta_{nm}^{(\\theta^\\prime, \\phi^\\prime)} {Y_n^m} (\\theta, \\phi) $$"
   ]
  },
  {
   "cell_type": "code",
   "execution_count": null,
   "metadata": {},
   "outputs": [],
   "source": [
    "c_nm_delta_x = np.squeeze(spharpy.spherical.spherical_harmonic_basis_real(n_max, Coordinates(-1, 0, 0)))\n",
    "c_delta_x = Y_real @ c_nm_delta_x\n",
    "c_delta_x_circle = Y_real_circle @ c_nm_delta_x"
   ]
  },
  {
   "cell_type": "code",
   "execution_count": null,
   "metadata": {},
   "outputs": [],
   "source": [
    "plt.figure(figsize=(7, 7))\n",
    "spharpy.plot.balloon_wireframe(sampling, c_delta_x, phase=True)"
   ]
  },
  {
   "cell_type": "code",
   "execution_count": null,
   "metadata": {},
   "outputs": [],
   "source": [
    "fig = plt.figure(figsize=(6, 6))\n",
    "ax = fig.add_subplot(111, projection='polar')\n",
    "ax.plot(circle.azimuth, np.abs(c_delta_x_circle))"
   ]
  },
  {
   "cell_type": "markdown",
   "metadata": {},
   "source": [
    "## Gradient of the Spherical Harmonics\n",
    "\n",
    "The gradient of the spherical harmonics on the unit sphere can be written as,\n",
    "\n",
    "$$ \\vec{\\nabla}{Y_n^m} (\\theta, \\phi) = \\frac{\\mathrm{d}}{\\mathrm{d}\\theta}{Y_n^m} (\\theta, \\phi) \\vec{e_{\\theta}} + \\frac{1}{\\sin(\\theta)}\\frac{\\mathrm{d}}{\\mathrm{d}\\phi}{Y_n^m} (\\theta, \\phi) \\vec{e_{\\phi}}.$$\n",
    "\n",
    "This representation may be used for the calculation of vector fields, such as the particle velocity and Intensity, in spherical coordinates."
   ]
  },
  {
   "cell_type": "markdown",
   "metadata": {},
   "source": [
    "### Gradient of the Complex-Valued Spherical Harmonics"
   ]
  },
  {
   "cell_type": "code",
   "execution_count": null,
   "metadata": {},
   "outputs": [],
   "source": [
    "n_max = 3\n",
    "Y_grad_theta, Y_grad_phi = spharpy.spherical.spherical_harmonic_basis_gradient(n_max, sampling)"
   ]
  },
  {
   "cell_type": "code",
   "execution_count": null,
   "metadata": {},
   "outputs": [],
   "source": [
    "plot_basis_functions(Y_grad_theta, sampling)"
   ]
  },
  {
   "cell_type": "code",
   "execution_count": null,
   "metadata": {},
   "outputs": [],
   "source": [
    "plot_basis_functions(Y_grad_phi, sampling)"
   ]
  },
  {
   "cell_type": "markdown",
   "metadata": {},
   "source": [
    "### Gradient of the Real-Valued Spherical Harmonics"
   ]
  },
  {
   "cell_type": "code",
   "execution_count": null,
   "metadata": {},
   "outputs": [],
   "source": [
    "n_max = 3\n",
    "Y_grad_theta_real, Y_grad_phi_real = spharpy.spherical.spherical_harmonic_basis_gradient_real(n_max, sampling)"
   ]
  },
  {
   "cell_type": "code",
   "execution_count": null,
   "metadata": {},
   "outputs": [],
   "source": [
    "plot_basis_functions(Y_grad_theta_real, sampling)"
   ]
  },
  {
   "cell_type": "code",
   "execution_count": null,
   "metadata": {},
   "outputs": [],
   "source": [
    "plot_basis_functions(Y_grad_phi_real, sampling)"
   ]
  }
 ],
 "metadata": {
  "interpreter": {
   "hash": "9131b587d0f7e98eda94de94aac65297fc22abcfb5aba426e123fc3ffc316114"
  },
  "kernelspec": {
   "display_name": "Python 3.7.2 64-bit ('spharpy': conda)",
   "language": "python",
   "name": "python3"
  },
  "language_info": {
   "codemirror_mode": {
    "name": "ipython",
    "version": 3
   },
   "file_extension": ".py",
   "mimetype": "text/x-python",
   "name": "python",
   "nbconvert_exporter": "python",
   "pygments_lexer": "ipython3",
   "version": "3.9.16"
  }
 },
 "nbformat": 4,
 "nbformat_minor": 2
}
